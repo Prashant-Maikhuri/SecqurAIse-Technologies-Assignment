{
 "cells": [
  {
   "cell_type": "code",
   "execution_count": 57,
   "metadata": {},
   "outputs": [],
   "source": [
    "import pandas as pd\n",
    "import numpy as np"
   ]
  },
  {
   "cell_type": "code",
   "execution_count": 58,
   "metadata": {},
   "outputs": [],
   "source": [
    "from tensorflow.keras.models import Sequential\n",
    "from tensorflow.keras.layers import Dense,Convolution2D,Flatten,MaxPool2D,Dropout\n",
    "from tensorflow.keras.preprocessing.image import ImageDataGenerator"
   ]
  },
  {
   "cell_type": "code",
   "execution_count": 59,
   "metadata": {},
   "outputs": [],
   "source": [
    "#### augmentation ################\n",
    "train_1 = ImageDataGenerator(rescale = 1./255, shear_range=0.2,zoom_range=0.2,horizontal_flip=True)\n",
    "test1 = ImageDataGenerator(rescale= 1./255)"
   ]
  },
  {
   "cell_type": "code",
   "execution_count": 60,
   "metadata": {},
   "outputs": [
    {
     "name": "stdout",
     "output_type": "stream",
     "text": [
      "Found 220 images belonging to 4 classes.\n",
      "Found 96 images belonging to 4 classes.\n"
     ]
    }
   ],
   "source": [
    "########## spliting the data to train and test ###########\n",
    "X_train = train_1.flow_from_directory(r\"D:\\assignment\\data_set\\train\",target_size=(64,64),batch_size=32,class_mode=\"categorical\")\n",
    "X_test = test1.flow_from_directory(r\"D:\\assignment\\data_set\\val\",target_size=(64,64),batch_size=32,class_mode=\"categorical\")"
   ]
  },
  {
   "cell_type": "code",
   "execution_count": 61,
   "metadata": {},
   "outputs": [],
   "source": [
    "model = Sequential()"
   ]
  },
  {
   "cell_type": "code",
   "execution_count": 62,
   "metadata": {},
   "outputs": [],
   "source": [
    "model.add(Convolution2D(32,(3,3), input_shape= (64,64,3)))                               \n",
    "model.add(MaxPool2D((2,2)))\n",
    "model.add(Flatten())\n",
    "model.add(Dense(128,activation=\"relu\"))\n",
    "\n",
    "model.add(Dense(4,activation=\"softmax\"))\n",
    "##model.add(Dropout(0.5))"
   ]
  },
  {
   "cell_type": "code",
   "execution_count": 63,
   "metadata": {},
   "outputs": [],
   "source": [
    "from tensorflow.keras.callbacks import EarlyStopping"
   ]
  },
  {
   "cell_type": "code",
   "execution_count": 64,
   "metadata": {},
   "outputs": [],
   "source": [
    "es = EarlyStopping(monitor='val_loss',mode='min',verbose=1,patience=5)"
   ]
  },
  {
   "cell_type": "code",
   "execution_count": 65,
   "metadata": {},
   "outputs": [],
   "source": [
    "model.compile(optimizer='rmsprop',loss='categorical_crossentropy',metrics=['accuracy'])"
   ]
  },
  {
   "cell_type": "code",
   "execution_count": 67,
   "metadata": {},
   "outputs": [
    {
     "name": "stdout",
     "output_type": "stream",
     "text": [
      "Epoch 1/10\n",
      "6/6 [==============================] - 7s 1s/step - loss: 15.0933 - accuracy: 0.2591 - val_loss: 6.5911 - val_accuracy: 0.1875\n",
      "Epoch 2/10\n",
      "6/6 [==============================] - 5s 799ms/step - loss: 4.3498 - accuracy: 0.2000 - val_loss: 2.6854 - val_accuracy: 0.3125\n",
      "Epoch 3/10\n",
      "6/6 [==============================] - 5s 798ms/step - loss: 1.8334 - accuracy: 0.3318 - val_loss: 1.4640 - val_accuracy: 0.3542\n",
      "Epoch 4/10\n",
      "6/6 [==============================] - 6s 844ms/step - loss: 1.7619 - accuracy: 0.3500 - val_loss: 1.4699 - val_accuracy: 0.3542\n",
      "Epoch 5/10\n",
      "6/6 [==============================] - 5s 797ms/step - loss: 1.4209 - accuracy: 0.3909 - val_loss: 1.6169 - val_accuracy: 0.3854\n",
      "Epoch 6/10\n",
      "6/6 [==============================] - 6s 819ms/step - loss: 1.1955 - accuracy: 0.5091 - val_loss: 1.3787 - val_accuracy: 0.4688\n",
      "Epoch 7/10\n",
      "6/6 [==============================] - 5s 775ms/step - loss: 1.1566 - accuracy: 0.5136 - val_loss: 1.3056 - val_accuracy: 0.4583\n",
      "Epoch 8/10\n",
      "6/6 [==============================] - 6s 881ms/step - loss: 1.1534 - accuracy: 0.5727 - val_loss: 1.4405 - val_accuracy: 0.4167\n",
      "Epoch 9/10\n",
      "6/6 [==============================] - 6s 883ms/step - loss: 1.0024 - accuracy: 0.5955 - val_loss: 1.4620 - val_accuracy: 0.4792\n",
      "Epoch 10/10\n",
      "6/6 [==============================] - 6s 939ms/step - loss: 0.9334 - accuracy: 0.6364 - val_loss: 1.6839 - val_accuracy: 0.4271\n"
     ]
    },
    {
     "data": {
      "text/plain": [
       "<tensorflow.python.keras.callbacks.History at 0x2146d9a6a88>"
      ]
     },
     "execution_count": 67,
     "metadata": {},
     "output_type": "execute_result"
    }
   ],
   "source": [
    "model.fit_generator(X_train,steps_per_epoch = 220/32 , epochs = 10 , validation_data = X_test,validation_steps = 96/32)"
   ]
  },
  {
   "cell_type": "code",
   "execution_count": 68,
   "metadata": {},
   "outputs": [],
   "source": [
    "model.save(\"fit_model.h5\")"
   ]
  },
  {
   "cell_type": "code",
   "execution_count": null,
   "metadata": {},
   "outputs": [],
   "source": []
  }
 ],
 "metadata": {
  "kernelspec": {
   "display_name": "Python 3",
   "language": "python",
   "name": "python3"
  },
  "language_info": {
   "codemirror_mode": {
    "name": "ipython",
    "version": 3
   },
   "file_extension": ".py",
   "mimetype": "text/x-python",
   "name": "python",
   "nbconvert_exporter": "python",
   "pygments_lexer": "ipython3",
   "version": "3.7.6"
  }
 },
 "nbformat": 4,
 "nbformat_minor": 4
}
